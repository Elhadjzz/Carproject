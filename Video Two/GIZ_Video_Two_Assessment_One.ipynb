{
  "nbformat": 4,
  "nbformat_minor": 0,
  "metadata": {
    "colab": {
      "name": "Copy of new-access-uganda-data.ipynb",
      "provenance": [],
      "include_colab_link": true
    },
    "kernelspec": {
      "name": "python3",
      "display_name": "Python 3"
    },
    "language_info": {
      "name": "python"
    }
  },
  "cells": [
    {
      "cell_type": "markdown",
      "metadata": {
        "id": "view-in-github",
        "colab_type": "text"
      },
      "source": [
        "<a href=\"https://colab.research.google.com/github/Elhadjzz/Carproject/blob/master/Video%20Two/GIZ_Video_Two_Assessment_One.ipynb\" target=\"_parent\"><img src=\"https://colab.research.google.com/assets/colab-badge.svg\" alt=\"Open In Colab\"/></a>"
      ]
    },
    {
      "cell_type": "markdown",
      "metadata": {
        "id": "he2iVq8yDjRq"
      },
      "source": [
        "# **VIDEO 2 NOTEBOOK FOR DOWNLOADING DATA FROM RADIANT ML HUB**"
      ]
    },
    {
      "cell_type": "markdown",
      "metadata": {
        "id": "-PyFWKo8e0Pc"
      },
      "source": [
        "##**Install radiant_mlhub client**\n"
      ]
    },
    {
      "cell_type": "code",
      "metadata": {
        "id": "5yNScyS2ffSL",
        "colab": {
          "base_uri": "https://localhost:8080/"
        },
        "outputId": "b42ac472-b3a1-45ec-d1c2-128f587d82a6"
      },
      "source": [
        "!pip install radiant_mlhub"
      ],
      "execution_count": 1,
      "outputs": [
        {
          "output_type": "stream",
          "name": "stdout",
          "text": [
            "Requirement already satisfied: radiant_mlhub in /usr/local/lib/python3.11/dist-packages (0.5.5)\n",
            "Requirement already satisfied: click<9.0.0,>=7.1.2 in /usr/local/lib/python3.11/dist-packages (from radiant_mlhub) (8.2.1)\n",
            "Requirement already satisfied: pydantic~=1.9.2 in /usr/local/lib/python3.11/dist-packages (from radiant_mlhub) (1.9.2)\n",
            "Requirement already satisfied: pystac~=1.4.0 in /usr/local/lib/python3.11/dist-packages (from radiant_mlhub) (1.4.0)\n",
            "Requirement already satisfied: python-dateutil~=2.8.2 in /usr/local/lib/python3.11/dist-packages (from radiant_mlhub) (2.8.2)\n",
            "Requirement already satisfied: requests~=2.27.0 in /usr/local/lib/python3.11/dist-packages (from radiant_mlhub) (2.27.1)\n",
            "Requirement already satisfied: shapely~=1.8.0 in /usr/local/lib/python3.11/dist-packages (from radiant_mlhub) (1.8.5.post1)\n",
            "Requirement already satisfied: tqdm~=4.64.0 in /usr/local/lib/python3.11/dist-packages (from radiant_mlhub) (4.64.1)\n",
            "Requirement already satisfied: urllib3~=1.26.11 in /usr/local/lib/python3.11/dist-packages (from radiant_mlhub) (1.26.20)\n",
            "Requirement already satisfied: typing-extensions>=3.7.4.3 in /usr/local/lib/python3.11/dist-packages (from pydantic~=1.9.2->radiant_mlhub) (4.14.1)\n",
            "Requirement already satisfied: six>=1.5 in /usr/local/lib/python3.11/dist-packages (from python-dateutil~=2.8.2->radiant_mlhub) (1.17.0)\n",
            "Requirement already satisfied: certifi>=2017.4.17 in /usr/local/lib/python3.11/dist-packages (from requests~=2.27.0->radiant_mlhub) (2025.7.14)\n",
            "Requirement already satisfied: charset-normalizer~=2.0.0 in /usr/local/lib/python3.11/dist-packages (from requests~=2.27.0->radiant_mlhub) (2.0.12)\n",
            "Requirement already satisfied: idna<4,>=2.5 in /usr/local/lib/python3.11/dist-packages (from requests~=2.27.0->radiant_mlhub) (3.10)\n"
          ]
        }
      ]
    },
    {
      "cell_type": "markdown",
      "metadata": {
        "id": "Saa6tHp18WK4"
      },
      "source": [
        "##**Authentication**\n",
        "\n",
        "You need an API_KEY to be able to download some datasets.\n",
        "\n",
        "You can get API_KEY from your account on Radiant MLHUB.\n",
        "\n",
        "If you do not have an account, go to [https://www.mlhub.earth/](https://www.mlhub.earth/) and sign up for API access.\n",
        "\n",
        "If you have an account, you can login and get an API_KEY through the API_KEY menu at [https://dashboard.mlhub.earth/](https://dashboard.mlhub.earth/).\n",
        "\n",
        "You can then paste your API_KEY in this cell at 'PASTE YOUR API_KEY HERE'.\n"
      ]
    },
    {
      "cell_type": "code",
      "metadata": {
        "id": "9IyR_ZEhfLqY"
      },
      "source": [
        "#MLHUB_API_KEY = 'e0e81c5c3766cea786f88c2a84ecd9d6ad272d09ce79c35309e5b18714ebff67'\n",
        "import os\n",
        "\n",
        "os.environ['MLHUB_API_KEY'] = 'e0e81c5c3766cea786f88c2a84ecd9d6ad272d09ce79c35309e5b18714ebff67'"
      ],
      "execution_count": 2,
      "outputs": []
    },
    {
      "cell_type": "markdown",
      "metadata": {
        "id": "b7iOdnJdfZFy"
      },
      "source": [
        "##**Import necessary packages**"
      ]
    },
    {
      "cell_type": "markdown",
      "metadata": {
        "id": "UaMV09UTezBq"
      },
      "source": [
        "###**List collection properties**\n",
        "\n",
        "In this case we list properties for Dalberg data insight's crop type dataset for Uganda. Additional information about the Ugandan dataset can be found [here](https://registry.mlhub.earth/10.34911/rdnt.eii04x/).\n"
      ]
    },
    {
      "cell_type": "code",
      "metadata": {
        "id": "JdaK_h38eiQk"
      },
      "source": [
        "import urllib.parse\n",
        "import re\n",
        "from pathlib import Path\n",
        "import itertools as it\n",
        "from functools import partial\n",
        "from concurrent.futures import ThreadPoolExecutor\n",
        "\n",
        "from tqdm.notebook import tqdm\n",
        "from radiant_mlhub import client, get_session"
      ],
      "execution_count": 6,
      "outputs": []
    },
    {
      "cell_type": "code",
      "metadata": {
        "id": "oMXNpPgfeyXq",
        "colab": {
          "base_uri": "https://localhost:8080/",
          "height": 321
        },
        "outputId": "5a2fa933-b5df-4888-f7b3-1818840a75a4"
      },
      "source": [
        "collection_id = 'ref_african_crops_uganda_01_labels'\n",
        "collection = client.get_collection(collection_id)\n",
        "print(f'Description: {collection[\"description\"]}')\n",
        "print(f'License: {collection[\"license\"]}')\n",
        "print(f'DOI: {collection[\"sci:doi\"]}')\n",
        "print(f'Citation: {collection[\"sci:citation\"]}')"
      ],
      "execution_count": 5,
      "outputs": [
        {
          "output_type": "error",
          "ename": "APIKeyNotFound",
          "evalue": "Could not resolve an API key from arguments, the environment, or a config file.",
          "traceback": [
            "\u001b[0;31m---------------------------------------------------------------------------\u001b[0m",
            "\u001b[0;31mAPIKeyNotFound\u001b[0m                            Traceback (most recent call last)",
            "\u001b[0;32m/tmp/ipython-input-5-3058116726.py\u001b[0m in \u001b[0;36m<cell line: 0>\u001b[0;34m()\u001b[0m\n\u001b[1;32m      1\u001b[0m \u001b[0mcollection_id\u001b[0m \u001b[0;34m=\u001b[0m \u001b[0;34m'ref_african_crops_uganda_01_labels'\u001b[0m\u001b[0;34m\u001b[0m\u001b[0;34m\u001b[0m\u001b[0m\n\u001b[0;32m----> 2\u001b[0;31m \u001b[0mcollection\u001b[0m \u001b[0;34m=\u001b[0m \u001b[0mclient\u001b[0m\u001b[0;34m.\u001b[0m\u001b[0mget_collection\u001b[0m\u001b[0;34m(\u001b[0m\u001b[0mcollection_id\u001b[0m\u001b[0;34m)\u001b[0m\u001b[0;34m\u001b[0m\u001b[0;34m\u001b[0m\u001b[0m\n\u001b[0m\u001b[1;32m      3\u001b[0m \u001b[0mprint\u001b[0m\u001b[0;34m(\u001b[0m\u001b[0;34mf'Description: {collection[\"description\"]}'\u001b[0m\u001b[0;34m)\u001b[0m\u001b[0;34m\u001b[0m\u001b[0;34m\u001b[0m\u001b[0m\n\u001b[1;32m      4\u001b[0m \u001b[0mprint\u001b[0m\u001b[0;34m(\u001b[0m\u001b[0;34mf'License: {collection[\"license\"]}'\u001b[0m\u001b[0;34m)\u001b[0m\u001b[0;34m\u001b[0m\u001b[0;34m\u001b[0m\u001b[0m\n\u001b[1;32m      5\u001b[0m \u001b[0mprint\u001b[0m\u001b[0;34m(\u001b[0m\u001b[0;34mf'DOI: {collection[\"sci:doi\"]}'\u001b[0m\u001b[0;34m)\u001b[0m\u001b[0;34m\u001b[0m\u001b[0;34m\u001b[0m\u001b[0m\n",
            "\u001b[0;32m/usr/local/lib/python3.11/dist-packages/radiant_mlhub/client/collections.py\u001b[0m in \u001b[0;36mget_collection\u001b[0;34m(collection_id, api_key, profile)\u001b[0m\n\u001b[1;32m     59\u001b[0m         \u001b[0mIf\u001b[0m \u001b[0many\u001b[0m \u001b[0mother\u001b[0m \u001b[0mresponse\u001b[0m \u001b[0mcode\u001b[0m \u001b[0;32mis\u001b[0m \u001b[0mreturned\u001b[0m\u001b[0;34m\u001b[0m\u001b[0;34m\u001b[0m\u001b[0m\n\u001b[1;32m     60\u001b[0m     \"\"\"\n\u001b[0;32m---> 61\u001b[0;31m     \u001b[0msession\u001b[0m \u001b[0;34m=\u001b[0m \u001b[0mget_session\u001b[0m\u001b[0;34m(\u001b[0m\u001b[0mapi_key\u001b[0m\u001b[0;34m=\u001b[0m\u001b[0mapi_key\u001b[0m\u001b[0;34m,\u001b[0m \u001b[0mprofile\u001b[0m\u001b[0;34m=\u001b[0m\u001b[0mprofile\u001b[0m\u001b[0;34m)\u001b[0m\u001b[0;34m\u001b[0m\u001b[0;34m\u001b[0m\u001b[0m\n\u001b[0m\u001b[1;32m     62\u001b[0m \u001b[0;34m\u001b[0m\u001b[0m\n\u001b[1;32m     63\u001b[0m     \u001b[0;32mtry\u001b[0m\u001b[0;34m:\u001b[0m\u001b[0;34m\u001b[0m\u001b[0;34m\u001b[0m\u001b[0m\n",
            "\u001b[0;32m/usr/local/lib/python3.11/dist-packages/radiant_mlhub/session.py\u001b[0m in \u001b[0;36mget_session\u001b[0;34m(api_key, profile)\u001b[0m\n\u001b[1;32m    263\u001b[0m \u001b[0;34m\u001b[0m\u001b[0m\n\u001b[1;32m    264\u001b[0m     \u001b[0;32mexcept\u001b[0m \u001b[0mAPIKeyNotFound\u001b[0m\u001b[0;34m:\u001b[0m\u001b[0;34m\u001b[0m\u001b[0;34m\u001b[0m\u001b[0m\n\u001b[0;32m--> 265\u001b[0;31m         \u001b[0;32mraise\u001b[0m \u001b[0mAPIKeyNotFound\u001b[0m\u001b[0;34m(\u001b[0m\u001b[0;34m'Could not resolve an API key from arguments, the environment, or a config file.'\u001b[0m\u001b[0;34m)\u001b[0m \u001b[0;32mfrom\u001b[0m \u001b[0;32mNone\u001b[0m\u001b[0;34m\u001b[0m\u001b[0;34m\u001b[0m\u001b[0m\n\u001b[0m",
            "\u001b[0;31mAPIKeyNotFound\u001b[0m: Could not resolve an API key from arguments, the environment, or a config file."
          ]
        }
      ]
    },
    {
      "cell_type": "markdown",
      "metadata": {
        "id": "cWNJDVWOmQKs"
      },
      "source": [
        "##**Downloading Assets**\n",
        "\n",
        "We first define some functions that will be used to download.\n"
      ]
    },
    {
      "cell_type": "code",
      "metadata": {
        "id": "MeTM2V2JmU9Y"
      },
      "source": [
        "items_pattern = re.compile(r'^/mlhub/v1/collections/(\\w+)/items/(\\w+)$')\n",
        "\n",
        "\n",
        "def filter_item(item, classes=None, cloud_and_shadow=None, seasonal_snow=None):\n",
        "    \"\"\"Function to be used as an argument to Python's built-in filter function that filters out any items that\n",
        "    do not match the given classes, cloud_and_shadow, and/or seasonal_snow values.\n",
        "\n",
        "    If any of these filter arguments are set to None, they will be ignored. For instance, using\n",
        "    filter_item(item, cloud_and_shadow=True) will only return items where item['properties']['cloud_and_shadow'] == 'true',\n",
        "    and will not filter based on classes/labels, or seasonal_snow.\n",
        "    \"\"\"\n",
        "    # Match classes, if provided\n",
        "\n",
        "    item_labels = item['properties'].get('labels', [])\n",
        "    if classes is not None and not any(label in classes for label in item_labels):\n",
        "        return False\n",
        "\n",
        "    # Match cloud_and_shadow, if provided\n",
        "    item_cloud_and_shadow = item['properties'].get('cloud_and_shadow', 'false') == 'true'\n",
        "    if cloud_and_shadow is not None and item_cloud_and_shadow != cloud_and_shadow:\n",
        "        return False\n",
        "\n",
        "    # Match seasonal_snow, if provided\n",
        "    item_seasonal_snow = item['properties'].get('seasonal_snow', 'false') == 'true'\n",
        "    if seasonal_snow is not None and item_seasonal_snow != seasonal_snow:\n",
        "        return False\n",
        "\n",
        "    return True\n",
        "\n",
        "\n",
        "def get_items(collection_id, classes=None, cloud_and_shadow=None, seasonal_snow=None, max_items=1):\n",
        "    \"\"\"Generator that yields up to max_items items that match the given classes, cloud_and_shadow, and seasonal_snow\n",
        "    values. Setting one of these filter arguments to None will cause that filter to be ignored (e.g. classes=None\n",
        "    means that items will not be filtered by class/label).\n",
        "    \"\"\"\n",
        "    filter_fn = partial(\n",
        "        filter_item,\n",
        "        classes=classes,\n",
        "        cloud_and_shadow=cloud_and_shadow,\n",
        "        seasonal_snow=seasonal_snow\n",
        "    )\n",
        "    filtered = filter(\n",
        "        filter_fn,\n",
        "\n",
        "        # Note that we set the limit to None here because we want to limit based on our own filters. It is not\n",
        "        #  recommended to use limit=None for the client.list_collection_items method without implementing your\n",
        "        #  own limits because the bigearthnet_v1_labels collection contains hundreds of thousands of items and\n",
        "        #  looping over these items without limit may take a very long time.\n",
        "        client.list_collection_items(collection_id, limit=None)\n",
        "    )\n",
        "    yield from it.islice(filtered, max_items)\n",
        "\n",
        "\n",
        "def download(item, asset_key, output_dir='./data'):\n",
        "    \"\"\"Downloads the given item asset by looking up that asset and then following the \"href\" URL.\"\"\"\n",
        "\n",
        "    # Try to get the given asset and return None if it does not exist\n",
        "    asset = item.get('assets', {}).get(asset_key)\n",
        "    if asset is None:\n",
        "        print(f'Asset \"{asset_key}\" does not exist in this item')\n",
        "        return None\n",
        "\n",
        "    # Try to get the download URL from the asset and return None if it does not exist\n",
        "    download_url = asset.get('href')\n",
        "    if download_url is None:\n",
        "        print(f'Asset {asset_key} does not have an \"href\" property, cannot download.')\n",
        "        return None\n",
        "\n",
        "    session = get_session()\n",
        "    r = session.get(download_url, allow_redirects=True, stream=True)\n",
        "\n",
        "    filename = urllib.parse.urlsplit(r.url).path.split('/')[-1]\n",
        "    output_path = Path(output_dir) / filename\n",
        "\n",
        "\n",
        "    with output_path.open('wb') as dst:\n",
        "        for chunk in r.iter_content(chunk_size=512 * 1024):\n",
        "            if chunk:\n",
        "                dst.write(chunk)\n",
        "\n",
        "\n",
        "def download_labels_and_source(item, assets=None, output_dir='./data'):\n",
        "    \"\"\"Downloads all label and source imagery assets associated with a label item that match the given asset types.\n",
        "    \"\"\"\n",
        "\n",
        "    # Follow all source links and add all assets from those\n",
        "    def _get_download_args(link):\n",
        "        # Get the item ID (last part of the link path)\n",
        "        source_item_path = urllib.parse.urlsplit(link['href']).path\n",
        "        source_item_collection, source_item_id = items_pattern.fullmatch(source_item_path).groups()\n",
        "        source_item = client.get_collection_item(source_item_collection, source_item_id)\n",
        "\n",
        "        source_download_dir = download_dir / 'source'\n",
        "        source_download_dir.mkdir(exist_ok=True)\n",
        "\n",
        "        matching_source_assets = [\n",
        "            asset\n",
        "            for asset in source_item.get('assets', {})\n",
        "            if assets is None or asset in assets\n",
        "        ]\n",
        "        return [\n",
        "            (source_item, asset, source_download_dir)\n",
        "            for asset in matching_source_assets\n",
        "        ]\n",
        "\n",
        "\n",
        "    download_args = []\n",
        "\n",
        "    download_dir = Path(output_dir) / item['id']\n",
        "    download_dir.mkdir(parents=True, exist_ok=True)\n",
        "\n",
        "    labels_download_dir = download_dir / 'labels'\n",
        "    labels_download_dir.mkdir(exist_ok=True)\n",
        "\n",
        "    # Download the labels assets\n",
        "    matching_assets = [\n",
        "        asset\n",
        "        for asset in item.get('assets', {})\n",
        "        if assets is None or asset in assets\n",
        "    ]\n",
        "\n",
        "    for asset in matching_assets:\n",
        "        download_args.append((item, asset, labels_download_dir))\n",
        "\n",
        "    source_links = [link for link in item['links'] if link['rel'] == 'source']\n",
        "\n",
        "    with ThreadPoolExecutor(max_workers=16) as executor:\n",
        "        for argument_batch in executor.map(_get_download_args, source_links):\n",
        "            download_args += argument_batch\n",
        "\n",
        "    print(f'Downloading {len(download_args)} assets...')\n",
        "    with ThreadPoolExecutor(max_workers=16) as executor:\n",
        "        with tqdm(total=len(download_args)) as pbar:\n",
        "            for _ in executor.map(lambda triplet: download(*triplet), download_args):\n",
        "                pbar.update(1)"
      ],
      "execution_count": null,
      "outputs": []
    },
    {
      "cell_type": "markdown",
      "metadata": {
        "id": "zCfvIys5mZ_S"
      },
      "source": [
        "##**Download assets for one item**"
      ]
    },
    {
      "cell_type": "code",
      "metadata": {
        "id": "tH-b3ib5mkgi"
      },
      "source": [
        "items = get_items(\n",
        "    collection_id,\n",
        "    max_items=1\n",
        ")\n",
        "for item in items:\n",
        "    download_labels_and_source(item, assets=['labels', 'B02', 'B03', 'B04', 'B05', 'B06', 'B07', 'B08', 'B09', 'B11', 'B12', 'B8A', 'CLD'])"
      ],
      "execution_count": null,
      "outputs": []
    },
    {
      "cell_type": "markdown",
      "metadata": {
        "id": "a5NdjGr9m-Ea"
      },
      "source": [
        "###**Explore downloaded assets**\n"
      ]
    },
    {
      "cell_type": "code",
      "metadata": {
        "id": "pDJcpDkvm9hs"
      },
      "source": [
        "!ls data/ref_african_crops_uganda_01_labels_02/source/"
      ],
      "execution_count": null,
      "outputs": []
    }
  ]
}